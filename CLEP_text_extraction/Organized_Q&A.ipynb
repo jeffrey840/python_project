{
 "cells": [
  {
   "cell_type": "code",
   "execution_count": 1,
   "id": "fc9ec051-da63-4c76-a8a3-6e8ba67effa5",
   "metadata": {
    "pycharm": {
     "name": "#%%\n"
    }
   },
   "outputs": [
    {
     "data": {
      "text/plain": [
       "{1: {'question': 'The noble revolts known as the Fronde resulted in',\n",
       "  'options': ['(A) the assassination of Cardinal Mazarin in 1661 ',\n",
       "   '(B) renewed power for the Parliament of Paris ',\n",
       "   '(C) a unified noble army securing and increasing its own power ',\n",
       "   '(D) French citizens turning to the monarchy for stability ',\n",
       "   '(E) the establishment of Catholicism as France’s only legal religion']},\n",
       " 2: {'question': 'The economic policies of Jean-Baptiste Colbert, Louis XIV’s controller general of finances,',\n",
       "  'options': ['(A) were noted for their innovation and originality ',\n",
       "   '(B) used new accounting practices to lessen the tax burden on the peasants ',\n",
       "   '(C) were based on mercantilism and stressed state benefits from government regulation of the economy ',\n",
       "   '(D) gave Louis the large treasury surplus he needed to make war ',\n",
       "   '(E) led to a policy of peace instead of war because of the latter’s great economic costs ... ']},\n",
       " 3: {'question': 'The Austrian Empire in the seventeenth century',\n",
       "  'options': ['(A) was unified by linguistic and ethnic ties ',\n",
       "   '(B) was defeated at Vienna by a Turkish army in 1687 ',\n",
       "   '(C) was a highly centralized, absolutist state under Leopold I ',\n",
       "   '(D) lost a German empire, but gained one in Eastern Europe ',\n",
       "   '(E) was successful in spreading Roman Catholicism throughout Eastern Europe, including Russia ... ']}}"
      ]
     },
     "execution_count": 1,
     "metadata": {},
     "output_type": "execute_result"
    }
   ],
   "source": [
    "import re\n",
    "\n",
    "# Provided text data\n",
    "text_data = \"\"\"1. The noble revolts known as the Fronde resulted in (A) the assassination of Cardinal Mazarin in 1661 (B) renewed power for the Parliament of Paris (C) a unified noble army securing and increasing its own power (D) French citizens turning to the monarchy for stability (E) the establishment of Catholicism as France’s only legal religion 2. The economic policies of Jean-Baptiste Colbert, Louis XIV’s controller general of finances, (A) were noted for their innovation and originality (B) used new accounting practices to lessen the tax burden on the peasants (C) were based on mercantilism and stressed state benefits from government regulation of the economy (D) gave Louis the large treasury surplus he needed to make war (E) led to a policy of peace instead of war because of the latter’s great economic costs ... (other questions) ... 5. The Austrian Empire in the seventeenth century (A) was unified by linguistic and ethnic ties (B) was defeated at Vienna by a Turkish army in 1687 (C) was a highly centralized, absolutist state under Leopold I (D) lost a German empire, but gained one in Eastern Europe (E) was successful in spreading Roman Catholicism throughout Eastern Europe, including Russia ... (other questions) ...\"\"\"\n",
    "\n",
    "# Split the text data into individual questions\n",
    "questions = re.split(r'\\d+\\.', text_data)[1:]\n",
    "\n",
    "# Organize the questions and their options\n",
    "organized_data = {}\n",
    "for i, question in enumerate(questions, start=1):\n",
    "    question = question.strip()\n",
    "    options = re.findall(r'\\([A-E]\\) [^\\(]+', question)\n",
    "    question_text = question.split(options[0])[0].strip()\n",
    "    organized_data[i] = {'question': question_text, 'options': options}\n",
    "\n",
    "organized_data"
   ]
  },
  {
   "cell_type": "code",
   "execution_count": null,
   "id": "350f41d3-ba0d-4301-8f82-2546372a73bd",
   "metadata": {
    "pycharm": {
     "name": "#%%\n"
    }
   },
   "outputs": [],
   "source": []
  }
 ],
 "metadata": {
  "kernelspec": {
   "display_name": "Python 3 (ipykernel)",
   "language": "python",
   "name": "python3"
  },
  "language_info": {
   "codemirror_mode": {
    "name": "ipython",
    "version": 3
   },
   "file_extension": ".py",
   "mimetype": "text/x-python",
   "name": "python",
   "nbconvert_exporter": "python",
   "pygments_lexer": "ipython3",
   "version": "3.8.9"
  }
 },
 "nbformat": 4,
 "nbformat_minor": 5
}