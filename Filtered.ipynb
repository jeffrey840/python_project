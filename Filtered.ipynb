{
 "cells": [
  {
   "cell_type": "code",
   "execution_count": 6,
   "id": "4e84904d-38c3-4ce5-826b-0b4e260e3108",
   "metadata": {},
   "outputs": [
    {
     "name": "stdout",
     "output_type": "stream",
     "text": [
      "\n",
      "1. The noble revolts known as the Fronde resulted in (A) the assassination of Cardinal Mazarin in 1661 (B) renewed power for the Parliament of Paris (C) a unified noble army securing and increasing its own power (D) French citizens turning to the monarchy for stability (E) the establishment of Catholicism as France’s only legal religion 2. The economic policies of Jean-Baptiste Colbert, Louis XIV’s controller general of finances, (A) were noted for their innovation and originality (B) used new accounting practices to lessen the tax burden on the peasants (C) were based on mercantilism and stressed state benefits from government regulation of the economy (D) gave Louis the large treasury surplus he needed to make war (E) led to a policy of peace instead of war because of the latter’s great economic costs ... (other questions) ... 5. The Austrian Empire in the seventeenth century (A) was unified by linguistic and ethnic ties (B) was defeated at Vienna by a Turkish army in 1687 (C) was a highly centralized, absolutist state under Leopold I (D) lost a German empire, but gained one in Eastern Europe (E) was successful in spreading Roman Catholicism throughout Eastern Europe, including Russia ... (other questions) ...\n",
      "\n"
     ]
    }
   ],
   "source": [
    "import re\n",
    "\n",
    "text = \"\"\"\n",
    "CLEP Western Civilization II 1 Copyright © 2004 Peterson's CLEP is a registered trademark of the College Entrance Examination Board, which was not involved in the production of and does not endorse this product. Time—120 Minutes 120 Questions For each question below, choose the best answer from the choices given. 1. The noble revolts known as the Fronde resulted in (A) the assassination of Cardinal Mazarin in 1661 (B) renewed power for the Parliament of Paris (C) a unified noble army securing and increasing its own power (D) French citizens turning to the monarchy for stability (E) the establishment of Catholicism as France’s only legal religion 2. The economic policies of Jean-Baptiste Colbert, Louis XIV’s controller general of finances, (A) were noted for their innovation and originality (B) used new accounting practices to lessen the tax burden on the peasants (C) were based on mercantilism and stressed state benefits from government regulation of the economy (D) gave Louis the large treasury surplus he needed to make war (E) led to a policy of peace instead of war because of the latter’s great economic costs ... (other questions) ... CLEP Western Civilization II 2 Copyright © 2004 Peterson's CLEP is a registered trademark of the College Entrance Examination Board, which was not involved in the production of and does not endorse this product. 5. The Austrian Empire in the seventeenth century (A) was unified by linguistic and ethnic ties (B) was defeated at Vienna by a Turkish army in 1687 (C) was a highly centralized, absolutist state under Leopold I (D) lost a German empire, but gained one in Eastern Europe (E) was successful in spreading Roman Catholicism throughout Eastern Europe, including Russia ... (other questions) ...\n",
    "\"\"\"\n",
    "\n",
    "# Remove copyright and other unnecessary information\n",
    "filtered_text = re.sub(r\"CLEP Western Civilization II.*?(\\d+\\..+?)(?=(\\d+\\..+?)|$)\", r\"\\1\", text, flags=re.DOTALL)\n",
    "\n",
    "print(filtered_text)\n"
   ]
  },
  {
   "cell_type": "code",
   "execution_count": null,
   "id": "557d8ee3-81d2-4003-b0d2-a866bd428dbb",
   "metadata": {},
   "outputs": [],
   "source": []
  },
  {
   "cell_type": "code",
   "execution_count": null,
   "id": "30d93d6c-b8db-4dee-9d78-fbb5fa80ca18",
   "metadata": {},
   "outputs": [],
   "source": []
  }
 ],
 "metadata": {
  "kernelspec": {
   "display_name": "Python 3 (ipykernel)",
   "language": "python",
   "name": "python3"
  },
  "language_info": {
   "codemirror_mode": {
    "name": "ipython",
    "version": 3
   },
   "file_extension": ".py",
   "mimetype": "text/x-python",
   "name": "python",
   "nbconvert_exporter": "python",
   "pygments_lexer": "ipython3",
   "version": "3.8.9"
  }
 },
 "nbformat": 4,
 "nbformat_minor": 5
}
