{
 "cells": [
  {
   "cell_type": "code",
   "execution_count": 12,
   "metadata": {
    "collapsed": true,
    "pycharm": {
     "name": "#%%\n"
    }
   },
   "outputs": [
    {
     "ename": "AttributeError",
     "evalue": "'WebDriver' object has no attribute 'find_element_by_css_selector'",
     "output_type": "error",
     "traceback": [
      "\u001B[0;31m---------------------------------------------------------------------------\u001B[0m",
      "\u001B[0;31mAttributeError\u001B[0m                            Traceback (most recent call last)",
      "Cell \u001B[0;32mIn[12], line 22\u001B[0m\n\u001B[1;32m     17\u001B[0m \u001B[38;5;28minput\u001B[39m(\u001B[38;5;124m\"\u001B[39m\u001B[38;5;124mPlease solve the CAPTCHA and then press Enter to continue...\u001B[39m\u001B[38;5;124m\"\u001B[39m)\n\u001B[1;32m     18\u001B[0m \u001B[38;5;66;03m# Navigate to the page\u001B[39;00m\n\u001B[1;32m     19\u001B[0m \n\u001B[1;32m     20\u001B[0m \n\u001B[1;32m     21\u001B[0m \u001B[38;5;66;03m# Capture the CAPTCHA image\u001B[39;00m\n\u001B[0;32m---> 22\u001B[0m captcha_image_element \u001B[38;5;241m=\u001B[39m \u001B[43mdriver\u001B[49m\u001B[38;5;241;43m.\u001B[39;49m\u001B[43mfind_element_by_css_selector\u001B[49m(\u001B[38;5;124m'\u001B[39m\u001B[38;5;124mimg.captcha\u001B[39m\u001B[38;5;124m'\u001B[39m)\n\u001B[1;32m     23\u001B[0m captcha_image_element\u001B[38;5;241m.\u001B[39mscreenshot(\u001B[38;5;124m'\u001B[39m\u001B[38;5;124mcaptcha.png\u001B[39m\u001B[38;5;124m'\u001B[39m)\n\u001B[1;32m     25\u001B[0m \u001B[38;5;66;03m# Use Tesseract to decode the CAPTCHA\u001B[39;00m\n",
      "\u001B[0;31mAttributeError\u001B[0m: 'WebDriver' object has no attribute 'find_element_by_css_selector'"
     ]
    }
   ],
   "source": [
    "\n",
    "\n",
    "from selenium import webdriver\n",
    "from selenium.webdriver.common.by import By\n",
    "from selenium.webdriver.support.ui import WebDriverWait\n",
    "from selenium.webdriver.support import expected_conditions as EC\n",
    "from bs4 import BeautifulSoup\n",
    "from selenium import webdriver\n",
    "from pytesseract import image_to_string\n",
    "from PIL import Image\n",
    "\n",
    "# Set up the selenium driver\n",
    "driver = webdriver.Chrome()\n",
    "\n",
    "# Navigate to the page\n",
    "driver.get('https://www.examtopics.com/exams/oracle/1z0-808/view/9/')\n",
    "\n",
    "# Wait for the user to manually solve the CAPTCHA\n",
    "input(\"Please solve the CAPTCHA and then press Enter to continue...\")\n",
    "# Navigate to the page\n",
    "\n",
    "\n",
    "# Capture the CAPTCHA image\n",
    "captcha_image_element = driver.find_element_by_css_selector('img.captcha')\n",
    "captcha_image_element.screenshot('captcha.png')\n",
    "\n",
    "# Use Tesseract to decode the CAPTCHA\n",
    "captcha_text = image_to_string(Image.open('captcha.png'))\n",
    "\n",
    "# Input the decoded CAPTCHA text back into the website\n",
    "captcha_input_element = driver.find_element_by_id('id_captcha_1')\n",
    "captcha_input_element.send_keys(captcha_text)\n",
    "\n",
    "# Submit the form\n",
    "submit_button_element = driver.find_element_by_css_selector('button[type=\"submit\"]')\n",
    "submit_button_element.click()\n",
    "\n",
    "# Parse the page for comments or discussions (if needed)\n",
    "soup = BeautifulSoup(driver.page_source, 'html.parser')\n",
    "comments = soup.select('.comment-content')  # Assuming 'comment-content' is a class for comments\n",
    "\n",
    "for comment in comments:\n",
    "    print(comment.text)\n",
    "\n",
    "# Close the browser once done\n",
    "driver.close()\n",
    "\n",
    "\n"
   ]
  },
  {
   "cell_type": "code",
   "execution_count": null,
   "outputs": [],
   "source": [],
   "metadata": {
    "collapsed": false,
    "pycharm": {
     "name": "#%%\n",
     "is_executing": true
    }
   }
  },
  {
   "cell_type": "code",
   "execution_count": null,
   "outputs": [],
   "source": [],
   "metadata": {
    "collapsed": false,
    "pycharm": {
     "name": "#%%\n",
     "is_executing": true
    }
   }
  },
  {
   "cell_type": "code",
   "execution_count": 11,
   "outputs": [],
   "source": [],
   "metadata": {
    "collapsed": false,
    "pycharm": {
     "name": "#%%\n"
    }
   }
  }
 ],
 "metadata": {
  "kernelspec": {
   "display_name": "Python 3",
   "language": "python",
   "name": "python3"
  },
  "language_info": {
   "codemirror_mode": {
    "name": "ipython",
    "version": 2
   },
   "file_extension": ".py",
   "mimetype": "text/x-python",
   "name": "python",
   "nbconvert_exporter": "python",
   "pygments_lexer": "ipython2",
   "version": "2.7.6"
  }
 },
 "nbformat": 4,
 "nbformat_minor": 0
}