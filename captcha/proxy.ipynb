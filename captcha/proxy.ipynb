{
 "cells": [
  {
   "cell_type": "code",
   "execution_count": 1,
   "id": "2cdac7ea-5ba6-48d3-aabe-444a308df24c",
   "metadata": {
    "pycharm": {
     "name": "#%%\n"
    }
   },
   "outputs": [
    {
     "data": {
      "text/plain": [
       "['36.94.185.122:60080',\n",
       " '103.105.196.130:3128',\n",
       " '51.255.107.40:8080',\n",
       " '143.42.163.193:80',\n",
       " '124.123.108.15:80',\n",
       " '15.204.161.192:18080',\n",
       " '183.100.14.134:8000',\n",
       " '49.0.252.39:8080',\n",
       " '65.20.76.246:80',\n",
       " '154.65.39.8:80']"
      ]
     },
     "execution_count": 1,
     "metadata": {},
     "output_type": "execute_result"
    }
   ],
   "source": [
    "import requests\n",
    "import re\n",
    "from bs4 import BeautifulSoup\n",
    "def fetch_proxies_from_spys():\n",
    "    \"\"\"Fetch proxies from spys.me\"\"\"\n",
    "    response = requests.get(\"https://spys.me/proxy.txt\")\n",
    "    content = response.text\n",
    "    return re.findall(r\"[0-9]+(?:\\.[0-9]+){3}:[0-9]+\", content, re.MULTILINE)\n",
    "def fetch_proxies_from_free_proxy_list():\n",
    "    \"\"\"Fetch proxies from free-proxy-list.net\"\"\"\n",
    "    response = requests.get(\"https://free-proxy-list.net/\")\n",
    "    soup = BeautifulSoup(response.content, 'html.parser')\n",
    "    proxy_text = soup.find('textarea').get_text()\n",
    "    return re.findall(r\"[0-9]+(?:\\.[0-9]+){3}:[0-9]+\", proxy_text)\n",
    "proxies = fetch_proxies_from_spys() + fetch_proxies_from_free_proxy_list()\n",
    "\n",
    "with open(\"unfiltered_proxies_list.txt\", 'w') as file:\n",
    "    for proxy in proxies:\n",
    "        print(proxy, file=file)\n",
    "proxies[:10]  # Display the first 10 proxies\n",
    "# this code retreives from multiple proxies and creates a file with 700 proxies, file named proxies_list.txt"
   ]
  },
  {
   "cell_type": "code",
   "execution_count": null,
   "id": "255da4b6-dea0-4f43-af60-84f74857679a",
   "metadata": {
    "pycharm": {
     "name": "#%%\n"
    }
   },
   "outputs": [],
   "source": []
  },
  {
   "cell_type": "code",
   "execution_count": null,
   "id": "d1cc38da",
   "metadata": {
    "collapsed": false,
    "jupyter": {
     "outputs_hidden": false
    },
    "pycharm": {
     "name": "#%%\n"
    }
   },
   "outputs": [],
   "source": []
  },
  {
   "cell_type": "code",
   "execution_count": null,
   "id": "44f2202c",
   "metadata": {
    "collapsed": false,
    "jupyter": {
     "outputs_hidden": false
    },
    "pycharm": {
     "name": "#%%\n"
    }
   },
   "outputs": [],
   "source": []
  },
  {
   "cell_type": "code",
   "execution_count": null,
   "outputs": [],
   "source": [],
   "metadata": {
    "collapsed": false,
    "pycharm": {
     "name": "#%%\n"
    }
   }
  },
  {
   "cell_type": "code",
   "execution_count": null,
   "id": "4a4485b1-65e8-4adf-8eba-46e3dcb5cea2",
   "metadata": {},
   "outputs": [],
   "source": []
  }
 ],
 "metadata": {
  "kernelspec": {
   "display_name": "Python 3 (ipykernel)",
   "language": "python",
   "name": "python3"
  },
  "language_info": {
   "codemirror_mode": {
    "name": "ipython",
    "version": 3
   },
   "file_extension": ".py",
   "mimetype": "text/x-python",
   "name": "python",
   "nbconvert_exporter": "python",
   "pygments_lexer": "ipython3",
   "version": "3.8.9"
  }
 },
 "nbformat": 4,
 "nbformat_minor": 5
}