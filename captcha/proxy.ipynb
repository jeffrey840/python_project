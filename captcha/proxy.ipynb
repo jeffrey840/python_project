{
 "cells": [
  {
   "cell_type": "code",
   "execution_count": 1,
   "id": "2cdac7ea-5ba6-48d3-aabe-444a308df24c",
   "metadata": {
    "pycharm": {
     "name": "#%%\n"
    }
   },
   "outputs": [
    {
     "data": {
      "text/plain": "['191.243.46.162:43241',\n '50.204.219.224:80',\n '50.168.163.176:80',\n '50.171.32.225:80',\n '75.89.101.63:80',\n '50.170.90.34:80',\n '50.217.226.45:80',\n '50.173.140.146:80',\n '50.218.57.66:80',\n '50.227.121.34:80']"
     },
     "execution_count": 1,
     "metadata": {},
     "output_type": "execute_result"
    }
   ],
   "source": [
    "import requests\n",
    "import re\n",
    "from bs4 import BeautifulSoup\n",
    "def fetch_proxies_from_spys():\n",
    "    \"\"\"Fetch proxies from spys.me\"\"\"\n",
    "    response = requests.get(\"https://spys.me/proxy.txt\")\n",
    "    content = response.text\n",
    "    return re.findall(r\"[0-9]+(?:\\.[0-9]+){3}:[0-9]+\", content, re.MULTILINE)\n",
    "def fetch_proxies_from_free_proxy_list():\n",
    "    \"\"\"Fetch proxies from free-proxy-list.net\"\"\"\n",
    "    response = requests.get(\"https://free-proxy-list.net/\")\n",
    "    soup = BeautifulSoup(response.content, 'html.parser')\n",
    "    proxy_text = soup.find('textarea').get_text()\n",
    "    return re.findall(r\"[0-9]+(?:\\.[0-9]+){3}:[0-9]+\", proxy_text)\n",
    "proxies = fetch_proxies_from_spys() + fetch_proxies_from_free_proxy_list()\n",
    "\n",
    "with open(\"proxies_list.txt\", 'w') as file:\n",
    "    for proxy in proxies:\n",
    "        print(proxy, file=file)\n",
    "proxies[:10]  # Display the first 10 proxies\n",
    "# this code retreives from multiple proxies and creates a file with 700 proxies, file named proxies_list.txt"
   ]
  },
  {
   "cell_type": "code",
   "execution_count": null,
   "id": "255da4b6-dea0-4f43-af60-84f74857679a",
   "metadata": {
    "pycharm": {
     "name": "#%%\n"
    }
   },
   "outputs": [],
   "source": []
  }
 ],
 "metadata": {
  "kernelspec": {
   "display_name": "Python 3 (ipykernel)",
   "language": "python",
   "name": "python3"
  },
  "language_info": {
   "codemirror_mode": {
    "name": "ipython",
    "version": 3
   },
   "file_extension": ".py",
   "mimetype": "text/x-python",
   "name": "python",
   "nbconvert_exporter": "python",
   "pygments_lexer": "ipython3",
   "version": "3.8.9"
  }
 },
 "nbformat": 4,
 "nbformat_minor": 5
}