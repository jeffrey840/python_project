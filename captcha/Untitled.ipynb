{
 "cells": [
  {
   "cell_type": "code",
   "execution_count": 2,
   "id": "1895696e-210b-4022-871c-6d55d4f2a528",
   "metadata": {
    "pycharm": {
     "name": "#%%\n"
    }
   },
   "outputs": [],
   "source": [
    "import requests\n",
    "import re\n",
    "from bs4 import BeautifulSoup"
   ]
  },
  {
   "cell_type": "code",
   "execution_count": 3,
   "id": "c403cfbb-dcf7-4427-883d-74ed98a97886",
   "metadata": {
    "pycharm": {
     "name": "#%%\n"
    }
   },
   "outputs": [],
   "source": [
    "def fetch_proxies_from_spys():\n",
    "    \"\"\"Fetch proxies from spys.me\"\"\"\n",
    "    response = requests.get(\"https://spys.me/proxy.txt\")\n",
    "    content = response.text\n",
    "    return re.findall(r\"[0-9]+(?:\\.[0-9]+){3}:[0-9]+\", content, re.MULTILINE)\n",
    "\n",
    "def fetch_proxies_from_free_proxy_list():\n",
    "    \"\"\"Fetch proxies from free-proxy-list.net\"\"\"\n",
    "    response = requests.get(\"https://free-proxy-list.net/\")\n",
    "    soup = BeautifulSoup(response.content, 'html.parser')\n",
    "    proxy_text = soup.find('textarea').get_text()\n",
    "    return re.findall(r\"[0-9]+(?:\\.[0-9]+){3}:[0-9]+\", proxy_text)\n"
   ]
  },
  {
   "cell_type": "code",
   "execution_count": 4,
   "id": "c43dc16e-474b-4d17-a4f6-c1b7327dbdb3",
   "metadata": {
    "pycharm": {
     "name": "#%%\n"
    }
   },
   "outputs": [],
   "source": [
    "def test_proxy(proxy):\n",
    "    \"\"\"Test if a proxy is working by making a request to httpbin\"\"\"\n",
    "    proxies = {\n",
    "        \"http\": f\"http://{proxy}\",\n",
    "        \"https\": f\"http://{proxy}\"\n",
    "    }\n",
    "    try:\n",
    "        response = requests.get(\"http://httpbin.org/ip\", proxies=proxies, timeout=5)\n",
    "        if response.status_code == 200:\n",
    "            return True\n",
    "    except requests.RequestException:\n",
    "        pass\n",
    "    return False\n"
   ]
  },
  {
   "cell_type": "code",
   "execution_count": null,
   "id": "5b59283d-ffa2-469a-b3f0-7fee538dac25",
   "metadata": {},
   "outputs": [],
   "source": [
    "def get_working_proxies(proxies):\n",
    "    \"\"\"Filter out the working proxies\"\"\"\n",
    "    return [proxy for proxy in proxies if test_proxy(proxy)]\n",
    "\n",
    "proxies = fetch_proxies_from_spys() + fetch_proxies_from_free_proxy_list()\n",
    "working_proxies = get_working_proxies(proxies)\n",
    "\n",
    "print(f\"Total proxies: {len(proxies)}\")\n",
    "print(f\"Working proxies: {len(working_proxies)}\")\n"
   ]
  },
  {
   "cell_type": "code",
   "execution_count": null,
   "id": "ad0dbd30-0804-4b74-acf5-f1e850704b8b",
   "metadata": {},
   "outputs": [],
   "source": [
    "with open(\"proxies_lieeest.txt\", 'w') as file:\n",
    "    for proxy in working_proxies:\n",
    "        print(proxy, file=file)\n"
   ]
  },
  {
   "cell_type": "code",
   "execution_count": null,
   "id": "8cf5bb06-285d-48f5-8740-e18e5eddcf89",
   "metadata": {},
   "outputs": [],
   "source": []
  }
 ],
 "metadata": {
  "kernelspec": {
   "display_name": "Python 3 (ipykernel)",
   "language": "python",
   "name": "python3"
  },
  "language_info": {
   "codemirror_mode": {
    "name": "ipython",
    "version": 3
   },
   "file_extension": ".py",
   "mimetype": "text/x-python",
   "name": "python",
   "nbconvert_exporter": "python",
   "pygments_lexer": "ipython3",
   "version": "3.8.9"
  }
 },
 "nbformat": 4,
 "nbformat_minor": 5
}
