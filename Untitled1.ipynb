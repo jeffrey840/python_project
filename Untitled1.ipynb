{
 "cells": [
  {
   "cell_type": "code",
   "execution_count": 17,
   "id": "e2df2ee2-0c3f-443d-bab6-775a15ead310",
   "metadata": {
    "pycharm": {
     "name": "#%%\n"
    }
   },
   "outputs": [],
   "source": [
    "import webbrowser\n",
    "\n",
    "def google_search(queries):\n",
    "    base_url = \"https://www.google.com/search?q={}\"\n",
    "    for query in queries:\n",
    "        webbrowser.open_new_tab(base_url.format(query))\n",
    "\n",
    "if __name__ == \"__main__\":\n",
    "    topics = [\"oracle 1z0-808 question {} exam topics\".format(i) for i in range(79, 100)]\n",
    "    google_search(topics)\n"
   ]
  },
  {
   "cell_type": "code",
   "execution_count": null,
   "id": "dc027228-14e8-45a8-935c-6a2cfd311062",
   "metadata": {
    "pycharm": {
     "name": "#%%\n"
    }
   },
   "outputs": [],
   "source": []
  }
 ],
 "metadata": {
  "kernelspec": {
   "display_name": "Python 3 (ipykernel)",
   "language": "python",
   "name": "python3"
  },
  "language_info": {
   "codemirror_mode": {
    "name": "ipython",
    "version": 3
   },
   "file_extension": ".py",
   "mimetype": "text/x-python",
   "name": "python",
   "nbconvert_exporter": "python",
   "pygments_lexer": "ipython3",
   "version": "3.8.9"
  }
 },
 "nbformat": 4,
 "nbformat_minor": 5
}